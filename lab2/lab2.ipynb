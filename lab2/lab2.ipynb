{
 "cells": [
  {
   "cell_type": "markdown",
   "metadata": {},
   "source": [
    "# Lab2 - EA for Set Covering Problem"
   ]
  },
  {
   "cell_type": "markdown",
   "metadata": {},
   "source": [
    "# Libraries"
   ]
  },
  {
   "cell_type": "code",
   "execution_count": 3,
   "metadata": {},
   "outputs": [],
   "source": [
    "import numpy as np\n",
    "import logging\n",
    "from collections import namedtuple\n",
    "import random\n",
    "from matplotlib import pyplot as plt\n",
    "import time"
   ]
  },
  {
   "cell_type": "markdown",
   "metadata": {},
   "source": [
    "# Code"
   ]
  },
  {
   "cell_type": "markdown",
   "metadata": {},
   "source": [
    "## Problem instance generator"
   ]
  },
  {
   "cell_type": "code",
   "execution_count": 4,
   "metadata": {},
   "outputs": [],
   "source": [
    "def problem(N: int, seed=42):\n",
    "    \"\"\"Creates an instance of the problem\"\"\"\n",
    "\n",
    "    random.seed(seed)\n",
    "    return [\n",
    "        list(set(random.randint(0, N - 1) for n in range(random.randint(N // 5, N // 2))))\n",
    "        for n in range(random.randint(N, N * 5))\n",
    "    ]"
   ]
  },
  {
   "cell_type": "markdown",
   "metadata": {},
   "source": [
    "## Evolutionary Algorithm"
   ]
  },
  {
   "cell_type": "markdown",
   "metadata": {},
   "source": [
    "### Fitness"
   ]
  },
  {
   "cell_type": "markdown",
   "metadata": {},
   "source": [
    "- The fitness evaluate how fit a given solution is in solving the set covering problem. Set covering problem looks to minimize the size of the final solution to get all number in range(N)."
   ]
  },
  {
   "cell_type": "code",
   "execution_count": 5,
   "metadata": {},
   "outputs": [],
   "source": [
    "def fitness(genome: list,N: int):\n",
    "    \"\"\" Definition of the fitness\"\"\"\n",
    "    return sum(len(_) for _ in genome)"
   ]
  },
  {
   "cell_type": "markdown",
   "metadata": {},
   "source": [
    "### Tournament"
   ]
  },
  {
   "cell_type": "markdown",
   "metadata": {},
   "source": [
    "The set covering problem is a minimisation problem, therefore we will try to minimize it. As we are looking to the values closest to zero, we can use the absolute value of the fitness"
   ]
  },
  {
   "cell_type": "code",
   "execution_count": 6,
   "metadata": {},
   "outputs": [],
   "source": [
    "def tournament(population: list, tournament_size=2):\n",
    "    \"\"\"Tournament function\"\"\"\n",
    "    return min(random.choices(population, k=tournament_size), key=lambda i: abs(i.fitness))"
   ]
  },
  {
   "cell_type": "markdown",
   "metadata": {},
   "source": [
    "### Cross-Over"
   ]
  },
  {
   "cell_type": "markdown",
   "metadata": {},
   "source": [
    "As seen in cass, I take a random point of my genome and then I cut at this point. The cut must be maximum the length of the smallest genome"
   ]
  },
  {
   "cell_type": "code",
   "execution_count": 7,
   "metadata": {},
   "outputs": [],
   "source": [
    "def cross_over(g1: list, g2: list):\n",
    "    cut = random.randint(1, min([len(g1),len(g2)]))\n",
    "    return g1[:cut] + g2[cut:]"
   ]
  },
  {
   "cell_type": "markdown",
   "metadata": {},
   "source": [
    "### Mutation"
   ]
  },
  {
   "cell_type": "markdown",
   "metadata": {},
   "source": [
    "Three types of mutation:\n",
    "- if len(genome) < Len(goal) ==> insertion of random array from the initial set\n",
    "- if len(genome) > len(goal) ==> deletion of a random array\n",
    "- if len(genome) == len(goal) ==> change random value with one from the initial set"
   ]
  },
  {
   "cell_type": "code",
   "execution_count": 8,
   "metadata": {},
   "outputs": [],
   "source": [
    "def mutation(g: list,goal: set, initial_set:list):\n",
    "    if sum(len(_) for _ in g) > len(goal):\n",
    "        point = random.randint(0, len(g)-1)\n",
    "        del g[point]\n",
    "    elif sum(len(_) for _ in g) < len(goal):\n",
    "        point = random.randint(0, len(initial_set)-1)\n",
    "        g.append(initial_set[point])\n",
    "    else:\n",
    "        point1 = random.randint(0, len(g)-1)\n",
    "        point2 = random.randint(0, len(initial_set)-1)\n",
    "        del g[point1]\n",
    "        g.append(initial_set[point2])\n",
    "    return g"
   ]
  },
  {
   "cell_type": "markdown",
   "metadata": {},
   "source": [
    "### Genetic Algorithm"
   ]
  },
  {
   "cell_type": "code",
   "execution_count": 9,
   "metadata": {},
   "outputs": [],
   "source": [
    "logging.getLogger().setLevel(logging.INFO)"
   ]
  },
  {
   "cell_type": "markdown",
   "metadata": {},
   "source": [
    "#### Initial Population"
   ]
  },
  {
   "cell_type": "markdown",
   "metadata": {},
   "source": [
    "##### Infeasible Solutions\n",
    "- Our problem provide us a lot of an infeasible solution therefore it is better to take this values. \n",
    "- As the heuristic repair could be dangerous, I will not use it\n",
    "- We will give a penalty to them. As set covering problem is a minminization problem, we will try to maximize this values\n",
    "- According, we will provide a factor of 100 * N."
   ]
  },
  {
   "cell_type": "code",
   "execution_count": 10,
   "metadata": {},
   "outputs": [],
   "source": [
    "def feasible(solution, GOAL):\n",
    "    return set([el for array in solution for el in array]) == GOAL"
   ]
  },
  {
   "cell_type": "code",
   "execution_count": 11,
   "metadata": {},
   "outputs": [],
   "source": [
    "def penalty(value,N):\n",
    "    return value*N*100"
   ]
  },
  {
   "cell_type": "markdown",
   "metadata": {},
   "source": [
    "##### Function"
   ]
  },
  {
   "cell_type": "code",
   "execution_count": 31,
   "metadata": {},
   "outputs": [],
   "source": [
    "Individual = namedtuple(\"Individual\", [\"genome\", \"fitness\"])\n",
    "def initial_population(N: int,POP_SIZE: int,seed = 42):\n",
    "    \"\"\" Initialisation of the population according to feasibility\"\"\"\n",
    "    population = list()\n",
    "    initial_set = problem(N,seed)\n",
    "    GOAL = set(list(range(N)))\n",
    "    for values in range(POP_SIZE):\n",
    "       genome = random.sample(initial_set,random.randint(1,N))# The ideal solution is N array of length 1 with all value\n",
    "       if feasible(genome,GOAL):\n",
    "           population.append(Individual(genome,fitness(genome,N)))\n",
    "       else:\n",
    "           population.append(Individual(genome, penalty(fitness(genome,N),N)))\n",
    "    logging.info(f\"init: N={N} pop_size={len(population)}; min_bloat_init={min(population, key=lambda i: abs(i.fitness))[1]}\")\n",
    "    return population,initial_set"
   ]
  },
  {
   "cell_type": "markdown",
   "metadata": {},
   "source": [
    "#### Performance Evolution"
   ]
  },
  {
   "cell_type": "code",
   "execution_count": 13,
   "metadata": {},
   "outputs": [],
   "source": [
    "def plot_result(fitness_log,NUM_GENERATIONS ):\n",
    "    off_line = [max(f[1] for f in fitness_log if f[0] == x) / (x + 1) for x in range(NUM_GENERATIONS)]\n",
    "    on_line = [max(f[1] for f in fitness_log if f[0] <= x) / (x + 1) for x in range(NUM_GENERATIONS)]\n",
    "    gen_best = [max(f[1] for f in fitness_log if f[0] == x) for x in range(NUM_GENERATIONS)]\n",
    "\n",
    "    plt.figure(figsize=(15, 6))\n",
    "    #plt.scatter([x for x, _ in fitness_log], [y for _, y in fitness_log], marker=\".\")\n",
    "    plt.plot([x for x, _ in enumerate(gen_best)], [y for _, y in enumerate(gen_best)])\n",
    "    plt.plot([x for x, _ in enumerate(on_line)], [y for _, y in enumerate(on_line)])\n",
    "    plt.plot([x for x, _ in enumerate(off_line)], [y for _, y in enumerate(off_line)])\n",
    "\n"
   ]
  },
  {
   "cell_type": "markdown",
   "metadata": {},
   "source": [
    "#### Evolution"
   ]
  },
  {
   "cell_type": "code",
   "execution_count": 27,
   "metadata": {},
   "outputs": [],
   "source": [
    "fitness_log = []\n",
    "def evolution(N: int,population: list,POPULATION_SIZE: int, NUM_GENERATIONS:int, OFFSPRING_SIZE:int,initial_set:list):\n",
    "    fitness_log = [(0, i.fitness) for i in population]\n",
    "    GOAL = set(list(range(N)))\n",
    "    for g in range(NUM_GENERATIONS):\n",
    "        offspring = list()\n",
    "        for i in range(OFFSPRING_SIZE):\n",
    "            if random.random() < 0.3:\n",
    "                p = tournament(population)\n",
    "                o = mutation(p.genome,GOAL,initial_set)\n",
    "            else:\n",
    "                p1 = tournament(population)\n",
    "                p2 = tournament(population)\n",
    "                o = cross_over(p1.genome, p2.genome)\n",
    "            if feasible(o,GOAL):\n",
    "                f = fitness(o,N)\n",
    "            else:\n",
    "                f = penalty(fitness(o,N),N)\n",
    "            fitness_log.append((g+1, f))\n",
    "            offspring.append(Individual(o, f))\n",
    "        population += offspring\n",
    "        population = sorted(population, key=lambda i: abs(i.fitness))[:POPULATION_SIZE]\n",
    "    #plot_result(fitness_log,10*N)\n",
    "    return population"
   ]
  },
  {
   "cell_type": "code",
   "execution_count": 28,
   "metadata": {},
   "outputs": [],
   "source": [
    "def algorithm(N,pop_size,num_gen,offsize):\n",
    "    POPULATION_SIZE = pop_size\n",
    "    OFFSPRING_SIZE = offsize\n",
    "    NUM_GENERATIONS = num_gen\n",
    "    ### Initialisation of the problem\n",
    "    population,initial_set = initial_population(N,POPULATION_SIZE)\n",
    "    ### Evolution\n",
    "    return evolution(N,population,POPULATION_SIZE,NUM_GENERATIONS,OFFSPRING_SIZE,initial_set)"
   ]
  },
  {
   "cell_type": "markdown",
   "metadata": {},
   "source": [
    "## 5 TO 100"
   ]
  },
  {
   "cell_type": "code",
   "execution_count": 43,
   "metadata": {},
   "outputs": [
    {
     "name": "stderr",
     "output_type": "stream",
     "text": [
      "INFO:root:init: N=5 pop_size=25; min_bloat_init=5\n",
      "INFO:root:Top 3 bests results for 5: [5, 5, 5]\n",
      "INFO:root:Found in 0.1651 s\n",
      "INFO:root:init: N=10 pop_size=100; min_bloat_init=19\n",
      "INFO:root:Top 3 bests results for 10: [10, 10, 10]\n",
      "INFO:root:Found in 0.7967 s\n",
      "INFO:root:init: N=20 pop_size=400; min_bloat_init=35\n",
      "INFO:root:Top 3 bests results for 20: [23, 24, 24]\n",
      "INFO:root:Found in 3.5485 s\n",
      "INFO:root:init: N=50 pop_size=2500; min_bloat_init=121\n",
      "INFO:root:Top 3 bests results for 50: [66, 66, 66]\n",
      "INFO:root:Found in 25.9789 s\n",
      "INFO:root:init: N=100 pop_size=10000; min_bloat_init=260\n",
      "INFO:root:Top 3 bests results for 100: [176, 183, 183]\n",
      "INFO:root:Found in 149.6102 s\n"
     ]
    }
   ],
   "source": [
    "tic = time.perf_counter()\n",
    "for N in [5,10,20,50,100]:\n",
    "    results = algorithm(N,N*N,100*N,N*10)[:3]\n",
    "    logging.info(f'Top 3 bests results for {N}: {[el.fitness for el in results]}')\n",
    "    toc = time.perf_counter()\n",
    "    logging.info(f'Found in {toc-tic:0.4f} s')"
   ]
  },
  {
   "cell_type": "markdown",
   "metadata": {},
   "source": [
    "## 500 and 1000"
   ]
  },
  {
   "cell_type": "markdown",
   "metadata": {},
   "source": [
    "After all test, I observe that for a initial population > 5000 there is no more improvement.\n",
    "And After a offsize > 1500 my performances were decreasing"
   ]
  },
  {
   "cell_type": "code",
   "execution_count": 47,
   "metadata": {},
   "outputs": [
    {
     "name": "stderr",
     "output_type": "stream",
     "text": [
      "INFO:root:init: N=500 pop_size=5000; min_bloat_init=2094\n",
      "INFO:root:Top 3 bests results for 500: [1401, 1401, 1401]\n",
      "INFO:root:Found in 55.9269 s\n",
      "INFO:root:init: N=1000 pop_size=5000; min_bloat_init=5307\n",
      "INFO:root:Top 3 bests results for 1000: [3558, 3603, 3605]\n",
      "INFO:root:Found in 222.6616 s\n"
     ]
    }
   ],
   "source": [
    "tic = time.perf_counter()\n",
    "for N in [500,1000]:\n",
    "    results = algorithm(N,5000,1000,1200)[:3]\n",
    "    logging.info(f'Top 3 bests results for {N}: {[el.fitness for el in results]}')\n",
    "    logging.info(f'Found in {time.perf_counter()-tic:0.4f} s')"
   ]
  }
 ],
 "metadata": {
  "kernelspec": {
   "display_name": "Python 3.9.7 ('base')",
   "language": "python",
   "name": "python3"
  },
  "language_info": {
   "codemirror_mode": {
    "name": "ipython",
    "version": 3
   },
   "file_extension": ".py",
   "mimetype": "text/x-python",
   "name": "python",
   "nbconvert_exporter": "python",
   "pygments_lexer": "ipython3",
   "version": "3.9.7"
  },
  "orig_nbformat": 4,
  "vscode": {
   "interpreter": {
    "hash": "ca9c90c9b299e3c35d28bc96236d8f2c0bd3d51256cb5ad616950692d4a1a879"
   }
  }
 },
 "nbformat": 4,
 "nbformat_minor": 2
}

{
 "cells": [
  {
   "cell_type": "markdown",
   "metadata": {},
   "source": [
    "# Lab 3: Nim Game"
   ]
  },
  {
   "cell_type": "markdown",
   "metadata": {},
   "source": [
    "## Problem"
   ]
  },
  {
   "cell_type": "markdown",
   "metadata": {},
   "source": [
    "- Deterministic\n",
    "- Perfect Information\n",
    "- Turn-based\n",
    "- Zero Sum"
   ]
  },
  {
   "cell_type": "markdown",
   "metadata": {},
   "source": [
    " “If both A and B play optimally (i.e- they don’t make any mistakes), then the player starting first is guaranteed to win if the Nim-Sum at the beginning of the game is non-zero. Otherwise, if the Nim-Sum evaluates to zero, then player A will lose definitely.”\n",
    " https://en.wikipedia.org/wiki/Subtraction_game"
   ]
  },
  {
   "cell_type": "markdown",
   "metadata": {},
   "source": [
    "## Library"
   ]
  },
  {
   "cell_type": "code",
   "execution_count": 2,
   "metadata": {},
   "outputs": [],
   "source": [
    "import logging\n",
    "from collections import namedtuple\n",
    "import random\n",
    "from typing import Callable\n",
    "from copy import deepcopy\n",
    "from itertools import accumulate\n",
    "from operator import xor\n",
    "import numpy as np\n",
    "import operator as op"
   ]
  },
  {
   "cell_type": "code",
   "execution_count": 3,
   "metadata": {},
   "outputs": [],
   "source": [
    "random.seed(42)"
   ]
  },
  {
   "cell_type": "markdown",
   "metadata": {},
   "source": [
    "#  In class"
   ]
  },
  {
   "cell_type": "markdown",
   "metadata": {},
   "source": [
    "## Nim Class"
   ]
  },
  {
   "cell_type": "code",
   "execution_count": 4,
   "metadata": {},
   "outputs": [],
   "source": [
    "Nimply = namedtuple(\"Nimply\", \"row, num_objects\")"
   ]
  },
  {
   "cell_type": "code",
   "execution_count": 5,
   "metadata": {},
   "outputs": [],
   "source": [
    "class Nim:\n",
    "    def __init__(self, num_rows: int, k: int = None) -> None:\n",
    "        self._rows = [i * 2 + 1 for i in range(num_rows)]\n",
    "        self._k = k\n",
    "        self._last_action = None\n",
    "\n",
    "    def __bool__(self):\n",
    "        return sum(self._rows) > 0\n",
    "\n",
    "    def __str__(self):\n",
    "        return \"<\" + \" \".join(str(_) for _ in self._rows) + \">\"\n",
    "\n",
    "    @property\n",
    "    def rows(self) -> tuple:\n",
    "        return tuple(self._rows)\n",
    "\n",
    "    @property\n",
    "    def k(self) -> int:\n",
    "        return self._k\n",
    "    \n",
    "    @property\n",
    "    def last_action(self):\n",
    "        return self._last_action\n",
    "    \n",
    "    def memory(self,last_action: Nimply):\n",
    "        \"\"\"\n",
    "        Memorizing the last action\n",
    "        \"\"\"\n",
    "        self._last_action = last_action\n",
    "\n",
    "\n",
    "    def nimming(self, ply: Nimply) -> None:\n",
    "        row, num_objects = ply\n",
    "        assert self._rows[row] >= num_objects\n",
    "        assert self._k is None or num_objects <= self._k\n",
    "        self._rows[row] -= num_objects"
   ]
  },
  {
   "cell_type": "markdown",
   "metadata": {},
   "source": [
    "## Sample (and silly) strategies"
   ]
  },
  {
   "cell_type": "code",
   "execution_count": 6,
   "metadata": {},
   "outputs": [],
   "source": [
    "def pure_random(state: Nim) -> Nimply:\n",
    "    row = random.choice([r for r, c in enumerate(state.rows) if c > 0])\n",
    "    num_objects = random.randint(1, state.rows[row])\n",
    "    return Nimply(row, num_objects)"
   ]
  },
  {
   "cell_type": "code",
   "execution_count": 7,
   "metadata": {},
   "outputs": [],
   "source": [
    "def gabriele(state: Nim) -> Nimply:\n",
    "    \"\"\"Pick always the maximum possible number of the lowest row\"\"\"\n",
    "    possible_moves = [(r, o) for r, c in enumerate(state.rows) for o in range(1, c + 1)]\n",
    "    return Nimply(*max(possible_moves, key=lambda m: (-m[0], m[1])))"
   ]
  },
  {
   "cell_type": "code",
   "execution_count": 8,
   "metadata": {},
   "outputs": [],
   "source": [
    "def nim_sum(state: Nim) -> int:\n",
    "    *_, result = accumulate(state.rows, xor)\n",
    "    return result\n",
    "\n",
    "\n",
    "def cook_status(state: Nim) -> dict:\n",
    "    cooked = dict()\n",
    "    cooked[\"possible_moves\"] = [\n",
    "        (r, o) for r, c in enumerate(state.rows) for o in range(1, c + 1) if state.k is None or o <= state.k\n",
    "    ]\n",
    "    cooked[\"active_rows_number\"] = sum(o > 0 for o in state.rows)\n",
    "    cooked[\"shortest_row\"] = min((x for x in enumerate(state.rows) if x[1] > 0), key=lambda y: y[1])[0]\n",
    "    cooked[\"longest_row\"] = max((x for x in enumerate(state.rows)), key=lambda y: y[1])[0]\n",
    "    cooked[\"nim_sum\"] = nim_sum(state)\n",
    "\n",
    "    brute_force = list()\n",
    "    for m in cooked[\"possible_moves\"]:\n",
    "        tmp = deepcopy(state)\n",
    "        tmp.nimming(m)\n",
    "        brute_force.append((m, nim_sum(tmp)))\n",
    "    cooked[\"brute_force\"] = brute_force\n",
    "\n",
    "    return cooked"
   ]
  },
  {
   "cell_type": "code",
   "execution_count": 9,
   "metadata": {},
   "outputs": [],
   "source": [
    "\n",
    "def optimal_startegy(state: Nim) -> Nimply:\n",
    "    data = cook_status(state)\n",
    "    return next((bf for bf in data[\"brute_force\"] if bf[1] == 0), random.choice(data[\"brute_force\"]))[0]"
   ]
  },
  {
   "cell_type": "code",
   "execution_count": 10,
   "metadata": {},
   "outputs": [],
   "source": [
    "def make_strategy(genome: dict) -> Callable:\n",
    "    def evolvable(state: Nim) -> Nimply:\n",
    "        data = cook_status(state)\n",
    "        if random.random() < genome[\"p\"]:\n",
    "            ply = Nimply(data[\"shortest_row\"], random.randint(1, state.rows[data[\"shortest_row\"]]))\n",
    "        else:\n",
    "            ply = Nimply(data[\"longest_row\"], random.randint(1, state.rows[data[\"longest_row\"]]))\n",
    "\n",
    "        return ply\n",
    "\n",
    "    return evolvable"
   ]
  },
  {
   "cell_type": "markdown",
   "metadata": {},
   "source": [
    "## Oversimplified match"
   ]
  },
  {
   "cell_type": "code",
   "execution_count": 11,
   "metadata": {},
   "outputs": [],
   "source": [
    "NUM_MATCHES = 10\n",
    "NIM_SIZE = 10\n",
    "\n",
    "\n",
    "def evaluate(strategy: Callable) -> float:\n",
    "    opponent = (strategy, optimal_startegy)\n",
    "    won = 0\n",
    "\n",
    "    for m in range(NUM_MATCHES):\n",
    "        nim = Nim(NIM_SIZE)\n",
    "        player = 0\n",
    "        while nim:\n",
    "            ply = opponent[player](nim)\n",
    "            nim.nimming(ply)\n",
    "            player = 1 - player\n",
    "        if player == 1:\n",
    "            won += 1\n",
    "    return won / NUM_MATCHES"
   ]
  },
  {
   "cell_type": "markdown",
   "metadata": {},
   "source": [
    "## Oversimplified match"
   ]
  },
  {
   "cell_type": "code",
   "execution_count": 12,
   "metadata": {},
   "outputs": [
    {
     "name": "stderr",
     "output_type": "stream",
     "text": [
      "DEBUG:root:status: Initial board  -> <1 3 5 7 9 11 13 15 17 19 21>\n",
      "DEBUG:root:status: After player 0 -> <1 3 5 7 9 11 13 15 17 17 21>\n",
      "DEBUG:root:status: After player 1 -> <1 3 1 7 9 11 13 15 17 17 21>\n",
      "DEBUG:root:status: After player 0 -> <1 2 1 7 9 11 13 15 17 17 21>\n",
      "DEBUG:root:status: After player 1 -> <1 2 1 7 9 7 13 15 17 17 21>\n",
      "DEBUG:root:status: After player 0 -> <1 2 1 7 9 7 13 15 13 17 21>\n",
      "DEBUG:root:status: After player 1 -> <1 2 1 7 9 6 13 15 13 17 21>\n",
      "DEBUG:root:status: After player 0 -> <0 2 1 7 9 6 13 15 13 17 21>\n",
      "DEBUG:root:status: After player 1 -> <0 2 1 3 9 6 13 15 13 17 21>\n",
      "DEBUG:root:status: After player 0 -> <0 2 1 3 9 2 13 15 13 17 21>\n",
      "DEBUG:root:status: After player 1 -> <0 2 1 0 9 2 13 15 13 17 21>\n",
      "DEBUG:root:status: After player 0 -> <0 1 1 0 9 2 13 15 13 17 21>\n",
      "DEBUG:root:status: After player 1 -> <0 1 1 0 8 2 13 15 13 17 21>\n",
      "DEBUG:root:status: After player 0 -> <0 0 1 0 8 2 13 15 13 17 21>\n",
      "DEBUG:root:status: After player 1 -> <0 0 1 0 3 2 13 15 13 17 21>\n",
      "DEBUG:root:status: After player 0 -> <0 0 1 0 3 2 12 15 13 17 21>\n",
      "DEBUG:root:status: After player 1 -> <0 0 1 0 3 2 10 15 13 17 21>\n",
      "DEBUG:root:status: After player 0 -> <0 0 1 0 3 2 6 15 13 17 21>\n",
      "DEBUG:root:status: After player 1 -> <0 0 1 0 3 2 6 15 9 17 21>\n",
      "DEBUG:root:status: After player 0 -> <0 0 1 0 3 2 2 15 9 17 21>\n",
      "DEBUG:root:status: After player 1 -> <0 0 1 0 3 2 2 15 4 17 21>\n",
      "DEBUG:root:status: After player 0 -> <0 0 1 0 3 2 1 15 4 17 21>\n",
      "DEBUG:root:status: After player 1 -> <0 0 1 0 3 2 1 15 4 17 19>\n",
      "DEBUG:root:status: After player 0 -> <0 0 1 0 3 2 1 15 4 12 19>\n",
      "DEBUG:root:status: After player 1 -> <0 0 1 0 3 2 1 15 4 12 17>\n",
      "DEBUG:root:status: After player 0 -> <0 0 1 0 3 2 1 15 4 10 17>\n",
      "DEBUG:root:status: After player 1 -> <0 0 1 0 3 2 1 15 2 10 17>\n",
      "DEBUG:root:status: After player 0 -> <0 0 1 0 3 2 1 14 2 10 17>\n",
      "DEBUG:root:status: After player 1 -> <0 0 1 0 3 2 1 14 2 9 17>\n",
      "DEBUG:root:status: After player 0 -> <0 0 1 0 3 2 1 14 2 4 17>\n",
      "DEBUG:root:status: After player 1 -> <0 0 1 0 3 2 1 12 2 4 17>\n",
      "DEBUG:root:status: After player 0 -> <0 0 0 0 3 2 1 12 2 4 17>\n",
      "DEBUG:root:status: After player 1 -> <0 0 0 0 3 2 0 12 2 4 17>\n",
      "DEBUG:root:status: After player 0 -> <0 0 0 0 3 2 0 12 2 2 17>\n",
      "DEBUG:root:status: After player 1 -> <0 0 0 0 3 2 0 12 2 2 13>\n",
      "DEBUG:root:status: After player 0 -> <0 0 0 0 3 2 0 8 2 2 13>\n",
      "DEBUG:root:status: After player 1 -> <0 0 0 0 3 2 0 8 2 2 9>\n",
      "DEBUG:root:status: After player 0 -> <0 0 0 0 3 2 0 6 2 2 9>\n",
      "DEBUG:root:status: After player 1 -> <0 0 0 0 3 2 0 6 2 2 7>\n",
      "DEBUG:root:status: After player 0 -> <0 0 0 0 3 1 0 6 2 2 7>\n",
      "DEBUG:root:status: After player 1 -> <0 0 0 0 0 1 0 6 2 2 7>\n",
      "DEBUG:root:status: After player 0 -> <0 0 0 0 0 1 0 6 1 2 7>\n",
      "DEBUG:root:status: After player 1 -> <0 0 0 0 0 1 0 5 1 2 7>\n",
      "DEBUG:root:status: After player 0 -> <0 0 0 0 0 1 0 0 1 2 7>\n",
      "DEBUG:root:status: After player 1 -> <0 0 0 0 0 1 0 0 1 2 2>\n",
      "DEBUG:root:status: After player 0 -> <0 0 0 0 0 1 0 0 1 2 1>\n",
      "DEBUG:root:status: After player 1 -> <0 0 0 0 0 1 0 0 1 1 1>\n",
      "DEBUG:root:status: After player 0 -> <0 0 0 0 0 0 0 0 1 1 1>\n",
      "DEBUG:root:status: After player 1 -> <0 0 0 0 0 0 0 0 0 1 1>\n",
      "DEBUG:root:status: After player 0 -> <0 0 0 0 0 0 0 0 0 1 0>\n",
      "DEBUG:root:status: After player 1 -> <0 0 0 0 0 0 0 0 0 0 0>\n",
      "INFO:root:status: Player 1 won!\n"
     ]
    }
   ],
   "source": [
    "logging.getLogger().setLevel(logging.DEBUG)\n",
    "\n",
    "#strategy = (make_strategy({\"p\": 0.1}), optimal_startegy)\n",
    "strategy = (optimal_startegy,optimal_startegy)\n",
    "nim = Nim(11,5)\n",
    "logging.debug(f\"status: Initial board  -> {nim}\")\n",
    "player = 0\n",
    "while nim:\n",
    "    ply = strategy[player](nim)\n",
    "    nim.nimming(ply)\n",
    "    logging.debug(f\"status: After player {player} -> {nim}\")\n",
    "    player = 1 - player\n",
    "winner = 1 - player\n",
    "logging.info(f\"status: Player {winner} won!\")"
   ]
  },
  {
   "cell_type": "markdown",
   "metadata": {},
   "source": [
    "# The Game"
   ]
  },
  {
   "cell_type": "code",
   "execution_count": 13,
   "metadata": {},
   "outputs": [],
   "source": [
    "class Player():\n",
    "    \n",
    "    def __init__(self,id,strategy = None):\n",
    "        self._strategy = strategy\n",
    "        self._id = id\n",
    "    \n",
    "    @property\n",
    "    def strategy(self):\n",
    "        return self._strategy\n",
    "    \n",
    "    @property\n",
    "    def id(self):\n",
    "        return self._id\n",
    "    \n",
    "    @property\n",
    "    def id(self):\n",
    "        return self._id\n",
    "    \n",
    "    def possible_moves(self,state: Nim):\n",
    "        return [\n",
    "            (r, o) for r, c in enumerate(state.rows) for o in range(1, c + 1) if state.k is None or o <= state.k\n",
    "        ]"
   ]
  },
  {
   "cell_type": "code",
   "execution_count": 14,
   "metadata": {},
   "outputs": [],
   "source": [
    "class Game():\n",
    "    \"\"\"\n",
    "    Game Simulation Class\n",
    "    \"\"\"\n",
    "    def __init__(self,player1,player2,num_rows: int,k: int = None):\n",
    "        #logging.getLogger().setLevel(logging.DEBUG)\n",
    "        self._nim = Nim(num_rows,k)\n",
    "        self._p1 = player1\n",
    "        self._p2 = player2\n",
    "        #logging.debug(f\"status: Initial board  -> {self._nim}\")\n",
    "    \n",
    "    @property\n",
    "    def p1(self):\n",
    "        return self._p1\n",
    "    @property\n",
    "    def p2(self):\n",
    "        return self._p2   \n",
    "    \n",
    "    def run(self):\n",
    "        player = self._p1\n",
    "        while self._nim:\n",
    "            ply = player.strategy(self._nim)\n",
    "            self._nim.nimming(ply)\n",
    "            #logging.debug(f\"status: After player {player.id} -> {self._nim} removing {ply[1]}\")\n",
    "            if player == self._p1:\n",
    "                player = self._p2\n",
    "            else:\n",
    "                player = self._p1\n",
    "        if player == self._p1:\n",
    "            winner = self._p2.id\n",
    "        else:\n",
    "            winner = self._p1.id\n",
    "        #logging.info(f\"status: Player {winner} won!\")\n",
    "        return  winner"
   ]
  },
  {
   "cell_type": "markdown",
   "metadata": {},
   "source": [
    "## Task 3.1: Rule Based"
   ]
  },
  {
   "cell_type": "code",
   "execution_count": 15,
   "metadata": {},
   "outputs": [],
   "source": [
    "class ExpertSystem(Player):\n",
    "    \"\"\"\n",
    "    Expert System is type of player which apply the optimal strategy\n",
    "    \"\"\"\n",
    "    def __init__(self,id):\n",
    "        super().__init__(id)\n",
    "    \n",
    "    def nim_sum(self,state):\n",
    "        *_, result = accumulate(state.rows, xor)\n",
    "        return result\n",
    "\n",
    "    def strategy(self,state):\n",
    "        brute_force = list()\n",
    "        for m in self.possible_moves(state):\n",
    "            tmp = deepcopy(state)\n",
    "            tmp.nimming(m)\n",
    "            brute_force.append((m, self.nim_sum(tmp)))\n",
    "        return next((bf for bf in brute_force if bf[1] == 0), random.choice(brute_force))[0]"
   ]
  },
  {
   "cell_type": "code",
   "execution_count": 16,
   "metadata": {},
   "outputs": [
    {
     "data": {
      "text/plain": [
       "'expert_system2'"
      ]
     },
     "execution_count": 16,
     "metadata": {},
     "output_type": "execute_result"
    }
   ],
   "source": [
    "# Testing the expert system class\n",
    "p1 = Player(\"opponent\",make_strategy({\"p\": 0.5}))\n",
    "#p1 = ExpertSystem(\"expert_system1\")\n",
    "p2 = ExpertSystem(\"expert_system2\")\n",
    "game = Game(p1,p2, 11)\n",
    "game.run()"
   ]
  },
  {
   "cell_type": "code",
   "execution_count": 17,
   "metadata": {},
   "outputs": [],
   "source": [
    "class RuleBased(Player):\n",
    "    def __init__(self,id, params = [0.2,0.16,0.16,0.16,0.16,0.16]):\n",
    "        super().__init__(id)\n",
    "        self._params = params\n",
    "    \n",
    "    @property\n",
    "    def params(self):\n",
    "        return self._params\n",
    "    @params.setter\n",
    "    def name(self, value):\n",
    "        self._params = value\n",
    "        \n",
    "    def cooked_rules(self, state: Nim, moves: list):\n",
    "        cooked = dict()\n",
    "        moves_row = [el for el in state.rows if el != 0]\n",
    "        \n",
    "        # SIMPLE RULES\n",
    "        simple = dict()\n",
    "        shortest_row = min((x for x in enumerate(state.rows) if x[1] > 0), key=lambda y: y[1])[0] #index shortest row (In class)\n",
    "        longest_row =  max((x for x in enumerate(state.rows)), key=lambda y: y[1])[0]\n",
    "        simple[\"shortest_row\"] = Nimply(shortest_row,self.choose_nim_quantity(state,state.rows[shortest_row]))\n",
    "        simple[\"longest_row\"] = Nimply(longest_row,self.choose_nim_quantity(state,state.rows[longest_row])) #index longest row (In class)\n",
    "        simple[\"min_k\"] = Nimply(state.rows.index(moves_row[random.randint(0,len(moves_row)-1)]),1) #nimming always 1\n",
    "        #simple[\"same_action\"] = state.last_action #try to play the same action as the opponent\n",
    "        cooked[\"simple\"] = simple\n",
    "        \n",
    "        #GENERALIZED RULES\n",
    "        cooked[\"remaining_parity_row\"] = self.action_strategy_row(state,cooked,moves_row)\n",
    "        cooked[\"remaining_quantity_row\"] = self.action_strategy_quantity(state,moves_row)\n",
    "        cooked[\"reaction_longest_shortest\"] = self.reaction_strategy_longest_vs_shortest(state,cooked)\n",
    "        cooked[\"reaction_quantity\"] = self.reaction_strategy_quantity(state,moves_row)\n",
    "        cooked[\"random\"] = self.pure_random(state)\n",
    "        \n",
    "        return cooked\n",
    "    \n",
    "    def choose_nim_quantity(self,state: Nim,row: int):\n",
    "        if (state.k):\n",
    "            if (row > state.k):\n",
    "                return random.randint(1,state.k)   \n",
    "        return random.randint(1,row)\n",
    "        \n",
    "    def clear_row(self,state: Nim, row_value: int):\n",
    "        \"\"\"action of clear a row\"\"\"\n",
    "        return Nimply(state.rows.index(row_value),row_value)\n",
    "    \n",
    "    def  keep_one(self,state: Nim, row_value: int):\n",
    "        \"\"\"Try to keep the last one for the player\"\"\"\n",
    "        return Nimply(state.rows.index(row_value),min(int(row_value- (state.k + 1)),state.k)) \n",
    "    \n",
    "    def action_strategy_row(self, state: Nim, rules: dict, possible_rows: list):\n",
    "        \"\"\"\n",
    "        According to the parity of the remaning rows\n",
    "        \"\"\"\n",
    "        ply = None\n",
    "        non_empty_row = possible_rows.copy()\n",
    "        \n",
    "        if (len(non_empty_row)%2 == 0):\n",
    "            \"\"\"If the number of rows remaining is pair we don't want to empty a row\"\"\"\n",
    "            non_empty_row = sorted(non_empty_row, reverse = True) # It is harder to empty the longest one. \n",
    "            if state.k:\n",
    "                if non_empty_row[0] < state.k:\n",
    "                    \"\"\"If the row size is less than the state.k, we only remove 1\"\"\"\n",
    "                    ply = Nimply(state.rows.index(non_empty_row[0]),1)\n",
    "                else:\n",
    "                    ply = self.keep_one(state, non_empty_row[0])\n",
    "            else:\n",
    "                \"\"\"If k is not defined we will try to force the opponent to take the last one\"\"\"\n",
    "                longest = rules[\"simple\"][\"longest_row\"][0]\n",
    "                ply = Nimply(longest,state.rows[longest]-1)\n",
    "    \n",
    "        elif (len(non_empty_row)%2 != 0):\n",
    "            \"\"\"If the number of rows remaining is unpair we want to empty a row\"\"\"\n",
    "            non_empty_row = sorted(non_empty_row) # It is easier to remove the shortest rows\n",
    "            if state.k:\n",
    "                if non_empty_row[0] <= state._k :\n",
    "                    \"\"\"The player can nim all pieces\"\"\"\n",
    "                    ply = self.clear_row(state,non_empty_row[0])\n",
    "                else:\n",
    "                    \"\"\"Try to keep the last one for the player and not the opponent\"\"\"\n",
    "                    ply = self.keep_one(state,non_empty_row[0]) #Try to go to a quantity of state.k + 1 in the last row if not remove state.k\n",
    "            else:\n",
    "                ply = Nimply(rules[\"simple\"][\"shortest_row\"][0], non_empty_row[0])\n",
    "        return ply\n",
    "    \n",
    "    def action_strategy_quantity(self, state: nim,possible_rows: list):\n",
    "        \"\"\"\n",
    "        Strategy according to the reamining quantity of nim\n",
    "        \"\"\"\n",
    "        ply = None\n",
    "        non_empty_row = possible_rows.copy()\n",
    "        if(sum(state.rows)%2 ==0):\n",
    "            \"\"\"If the quantity remaining is paired we want to keep a paired quantity\"\"\"\n",
    "            valid_rows  = [el for el in non_empty_row if el > 1] #> 1 because we want to nim a paired quantity\n",
    "            if valid_rows:\n",
    "                row = valid_rows[random.randint(0,len(valid_rows)-1)] # Select a random row where we can remove a pair number\n",
    "                if state.k:  \n",
    "                    if state.k == 1:\n",
    "                        \"\"\"This strategy focus on the quantity to nim so if state.k == 1 is the only case were we have only unpaired quantity to remove\"\"\"\n",
    "                        nimming =[1]\n",
    "                    else:\n",
    "                        nimming = [el for el in range(1,state.k+1) if (el%2==0) & (el <= row)] #Nim only unpaired quantity possible in the selected row\n",
    "                else:\n",
    "                    if row == 1:\n",
    "                        nimming = [1]\n",
    "                    else:\n",
    "                        nimming = [el for el in range(1,row+1) if (el%2==0) & (el <= row)] #Nim only unpaired quantity possible in the selected row\n",
    "                ply = Nimply(state.rows.index(row), sorted(nimming,reverse=True)[0])\n",
    "            else:\n",
    "                row  = non_empty_row[random.randint(0,len(non_empty_row)-1)]#Select a random non empty row    \n",
    "                if state.k:  \n",
    "                    if state.k == 1:\n",
    "                        \"\"\"This strategy focus on the quantity to nim so if state.k == 1 is the only case were we have only unpaired quantity to remove\"\"\"\n",
    "                        nimming =[1]\n",
    "                    else:\n",
    "                        nimming = [el for el in range(1,state.k+1) if (el%2!=0) & (el <= row)] #Nim only paired quantity possible in the selected row\n",
    "                else:\n",
    "                    if row == 1:\n",
    "                        nimming = [1]\n",
    "                    else:\n",
    "                        nimming = [el for el in range(1,row+1) if (el%2!=0) & (el <= row)] #Nim only paired quantity possible in the selected row\n",
    "                ply = Nimply(state.rows.index(row), sorted(nimming)[0])\n",
    "        else:\n",
    "            \"\"\"If the quantity remainig is unpaired we want to get a paired quantity\"\"\"   \n",
    "            row  = non_empty_row[random.randint(0,len(non_empty_row)-1)]#Select a random non empty row    \n",
    "            if state.k:  \n",
    "                if state.k == 1:\n",
    "                    \"\"\"This strategy focus on the quantity to nim so if state.k == 1 is the only case were we have only unpaired quantity to remove\"\"\"\n",
    "                    nimming =[1]\n",
    "                else:\n",
    "                    nimming = [el for el in range(1,state.k+1) if (el%2!=0) & (el <= row)] #Nim only paired quantity possible in the selected row\n",
    "            else:\n",
    "                if row == 1:\n",
    "                    nimming = [1]\n",
    "                else:\n",
    "                    nimming = [el for el in range(1,row+1) if (el%2!=0) & (el <= row)] #Nim only paired quantity possible in the selected row\n",
    "            ply = Nimply(state.rows.index(row), sorted(nimming)[0])\n",
    "        return ply\n",
    "                 \n",
    "    def reaction_strategy_longest_vs_shortest(self, state: Nim, rules:dict):\n",
    "        \"\"\"\n",
    "        The player will play in a different domain than the opponent\n",
    "        \"\"\"\n",
    "        if state.last_action:\n",
    "            if state.row[state.last_action[0]] <= sum(state.rows)//2:\n",
    "                \"\"\"The oppponent nimmed shortest rows so I want to play on the longest\"\"\"\n",
    "                row  = state.rows[rules[\"longest_row\"]]#Select the longest row \n",
    "                if state.k:\n",
    "                    if state.k == 1:\n",
    "                         nimming =[1]\n",
    "                    else:\n",
    "                        nimming = [el for el in range(1,state.k+1) if el <= row] #Nim  quantity possible in the selected row\n",
    "                else:\n",
    "                    nimming = [el for el in range(1,row+1) if el <= row] #Nim quantity possible in the selected row\n",
    "                ply = Nimply(state.rows.index(row), nimming[0])\n",
    "            else:\n",
    "                \"\"\"The oppponent nimmed longest row so I want to play on the shortest\"\"\"\n",
    "                row  = state.rows[rules[\"shortest_row\"]]#Select the shortest row \n",
    "                if state.k:\n",
    "                    if state.k == 1:\n",
    "                         nimming =[1]\n",
    "                    else:\n",
    "                        nimming = [el for el in range(1,state.k+1) if el <= row] #Nim  quantity possible in the selected row\n",
    "                else:\n",
    "                    if row == 1:\n",
    "                        nimming = [1]\n",
    "                    else:\n",
    "                        nimming = [el for el in range(1,row+1) if el <= row] #Noù quantity possible in the selected row\n",
    "                ply = Nimply(state.rows.index(row), nimming[0])\n",
    "            return ply\n",
    "        else:\n",
    "            return pure_random(state)\n",
    "    \n",
    "    def reaction_strategy_quantity(self, state: Nim, possible_rows):\n",
    "        \"\"\"\n",
    "        The player will play different quantity than the oppponent\n",
    "        \"\"\"\n",
    "        non_empty_row = possible_rows.copy()\n",
    "        if state.last_action:\n",
    "            row  = non_empty_row[random.randint(0,len(non_empty_row)-1)]#Select a random row \n",
    "            if state.k == 1:\n",
    "                \"\"\"This strategy focus on the quantity to nim so if state.k == 1 is the only case were we have only unpaired quantity to remove\"\"\"\n",
    "                ply = Nimply(state.rows.index(row), 1)\n",
    "            elif state.last_action[1]%2==0:\n",
    "                \"\"\"The oppponent nimmed shortest a pair quantity of nim\"\"\"\n",
    "                if state.k:\n",
    "                    nimming = [el for el in range(1,state.k+1) if (el%2!=0) & (el <= row)] #Nim quantity possible in the selected row\n",
    "                else:\n",
    "                    if row == 1:\n",
    "                        nimming = [1]\n",
    "                    else:\n",
    "                        nimming = [el for el in range(1,row+1) if (el%2!=0) & (el <= row)] #Nim quantity possible in the selected row\n",
    "                ply = Nimply(state.rows.index(row), nimming[0])\n",
    "            else:\n",
    "                \"\"\"The oppponent nimmed shortest an unpair quantity of nim\"\"\"\"\"\n",
    "                if state.k:\n",
    "                    nimming = [el for el in range(1,state.k+1) if (el%2==0) & (el <= row)] #Nim  quantity possible in the selected row\n",
    "                else:\n",
    "                    if row == 1:\n",
    "                        nimming = [1]\n",
    "                    else:\n",
    "                        nimming = [el for el in range(1,row+1) if (el%2==0) & (el <= row)] #Noù quantity possible in the selected row\n",
    "                ply = Nimply(state.rows.index(row), nimming[0])\n",
    "            return ply\n",
    "              \n",
    "        else:\n",
    "            return pure_random(state)\n",
    "    \n",
    "    def pure_random(self,state: Nim):\n",
    "        row = random.choice([r for r, c in enumerate(state.rows) if c > 0])\n",
    "        num_objects = random.randint(1, state.rows[row])\n",
    "        return Nimply(row, num_objects)\n",
    "    \n",
    "    def strategy(self, state:Nim): #DEFINE PARAMS AS ATTRIBUTE\n",
    "        \"\"\"\n",
    "        strategies used to react to opponent actions, I xhoose to wait different kind of rules\n",
    "        @state: the state of the nim game\n",
    "        @params: probability of each strategy the simple strategy will be always the same. sum of probability all simple = 0.2\n",
    "        \"\"\"\n",
    "        moves = self.possible_moves(state)\n",
    "        rules = self.cooked_rules(state,moves)\n",
    "        \n",
    "        strategies_name = list(rules.keys())\n",
    "        strategy_choosed = np.random.choice(strategies_name, p=self.params)\n",
    "        if strategy_choosed == \"simple\":\n",
    "            strategy_choosed = np.random.choice(list(rules[strategy_choosed].keys()))\n",
    "            return rules[\"simple\"][strategy_choosed]\n",
    "\n",
    "        return rules[strategy_choosed]"
   ]
  },
  {
   "cell_type": "code",
   "execution_count": 18,
   "metadata": {},
   "outputs": [
    {
     "name": "stdout",
     "output_type": "stream",
     "text": [
      "Percentage of victory against pure random:1.0 with nim size 0\n",
      "Percentage of victory against pure random:0.0 with nim size 1\n",
      "Percentage of victory against pure random:0.57 with nim size 2\n",
      "Percentage of victory against pure random:0.65 with nim size 3\n",
      "Percentage of victory against pure random:0.63 with nim size 4\n",
      "Percentage of victory against pure random:0.68 with nim size 5\n",
      "Percentage of victory against pure random:0.65 with nim size 6\n",
      "Percentage of victory against pure random:0.67 with nim size 7\n",
      "Percentage of victory against pure random:0.66 with nim size 8\n",
      "Percentage of victory against pure random:0.64 with nim size 9\n",
      "Percentage of victory against pure random:0.64 with nim size 10\n",
      "Percentage of victory against pure random:0.72 with nim size 11\n",
      "Percentage of victory against pure random:0.62 with nim size 12\n",
      "Percentage of victory against pure random:0.67 with nim size 13\n",
      "Percentage of victory against pure random:0.57 with nim size 14\n",
      "Percentage of victory against pure random:0.57 with nim size 15\n",
      "Percentage of victory against pure random:0.62 with nim size 16\n",
      "Percentage of victory against pure random:0.7 with nim size 17\n",
      "Percentage of victory against pure random:0.68 with nim size 18\n",
      "Percentage of victory against pure random:0.64 with nim size 19\n",
      "Percentage of victory against pure random:0.7 with nim size 20\n",
      "Percentage of victory against pure random:0.73 with nim size 21\n",
      "Percentage of victory against pure random:0.6 with nim size 22\n",
      "Percentage of victory against pure random:0.66 with nim size 23\n",
      "Percentage of victory against pure random:0.61 with nim size 24\n"
     ]
    },
    {
     "data": {
      "text/plain": [
       "0.6352"
      ]
     },
     "execution_count": 18,
     "metadata": {},
     "output_type": "execute_result"
    }
   ],
   "source": [
    "NUM_MATCHES = 100\n",
    "NIM_SIZE = 25\n",
    "\n",
    "evolution = []\n",
    "for i in range(NIM_SIZE):\n",
    "    winner = []\n",
    "    for m in range(NUM_MATCHES):\n",
    "        nim = Nim(i)\n",
    "        p1 = RuleBased(\"pure_random\",[0,0,0,0,0,1])\n",
    "        p2 = RuleBased(\"classic_rules\")\n",
    "        game = Game(p1,p2, i)\n",
    "        winner.append(game.run())\n",
    "    evolution.append(op.countOf(winner,\"classic_rules\")/len(winner))\n",
    "    print(f'Percentage of victory against pure random:{op.countOf(winner,\"classic_rules\")/len(winner)} with nim size {i}')\n",
    "np.mean(evolution)\n",
    "    "
   ]
  },
  {
   "cell_type": "markdown",
   "metadata": {},
   "source": [
    "Therefore my strategy works better than pure random it will win with between 60% and 66% efficiency when random begin ()"
   ]
  },
  {
   "cell_type": "code",
   "execution_count": 19,
   "metadata": {},
   "outputs": [
    {
     "name": "stdout",
     "output_type": "stream",
     "text": [
      "Percentage of victory against pure random:0.0 with nim size 0\n",
      "Percentage of victory against pure random:1.0 with nim size 1\n",
      "Percentage of victory against pure random:0.65 with nim size 2\n",
      "Percentage of victory against pure random:0.5 with nim size 3\n",
      "Percentage of victory against pure random:0.56 with nim size 4\n",
      "Percentage of victory against pure random:0.6 with nim size 5\n",
      "Percentage of victory against pure random:0.63 with nim size 6\n",
      "Percentage of victory against pure random:0.63 with nim size 7\n",
      "Percentage of victory against pure random:0.67 with nim size 8\n",
      "Percentage of victory against pure random:0.55 with nim size 9\n",
      "Percentage of victory against pure random:0.66 with nim size 10\n",
      "Percentage of victory against pure random:0.64 with nim size 11\n",
      "Percentage of victory against pure random:0.63 with nim size 12\n",
      "Percentage of victory against pure random:0.68 with nim size 13\n",
      "Percentage of victory against pure random:0.67 with nim size 14\n",
      "Percentage of victory against pure random:0.57 with nim size 15\n",
      "Percentage of victory against pure random:0.68 with nim size 16\n",
      "Percentage of victory against pure random:0.58 with nim size 17\n",
      "Percentage of victory against pure random:0.61 with nim size 18\n",
      "Percentage of victory against pure random:0.59 with nim size 19\n",
      "Percentage of victory against pure random:0.74 with nim size 20\n",
      "Percentage of victory against pure random:0.68 with nim size 21\n",
      "Percentage of victory against pure random:0.55 with nim size 22\n",
      "Percentage of victory against pure random:0.68 with nim size 23\n",
      "Percentage of victory against pure random:0.66 with nim size 24\n"
     ]
    },
    {
     "data": {
      "text/plain": [
       "0.6164000000000001"
      ]
     },
     "execution_count": 19,
     "metadata": {},
     "output_type": "execute_result"
    }
   ],
   "source": [
    "NUM_MATCHES = 100\n",
    "NIM_SIZE = 25\n",
    "\n",
    "evolution = []\n",
    "for i in range(NIM_SIZE):\n",
    "    winner = []\n",
    "    for m in range(NUM_MATCHES):\n",
    "        nim = Nim(i)\n",
    "        p2 = RuleBased(\"pure_random\",[0,0,0,0,0,1])\n",
    "        p1 = RuleBased(\"classic_rules\")\n",
    "        game = Game(p1,p2, i)\n",
    "        winner.append(game.run())\n",
    "    evolution.append(op.countOf(winner,\"classic_rules\")/len(winner))\n",
    "    print(f'Percentage of victory against pure random:{op.countOf(winner,\"classic_rules\")/len(winner)} with nim size {i}')\n",
    "np.mean(evolution)"
   ]
  },
  {
   "cell_type": "code",
   "execution_count": 20,
   "metadata": {},
   "outputs": [
    {
     "name": "stdout",
     "output_type": "stream",
     "text": [
      "Percentage of victory against expert_system:0.0 with nim size 0\n",
      "Percentage of victory against expert_system:1.0 with nim size 1\n",
      "Percentage of victory against expert_system:0.41 with nim size 2\n",
      "Percentage of victory against expert_system:0.14 with nim size 3\n",
      "Percentage of victory against expert_system:0.17 with nim size 4\n",
      "Percentage of victory against expert_system:0.11 with nim size 5\n",
      "Percentage of victory against expert_system:0.21 with nim size 6\n",
      "Percentage of victory against expert_system:0.18 with nim size 7\n",
      "Percentage of victory against expert_system:0.2 with nim size 8\n",
      "Percentage of victory against expert_system:0.15 with nim size 9\n",
      "Percentage of victory against expert_system:0.17 with nim size 10\n",
      "Percentage of victory against expert_system:0.13 with nim size 11\n",
      "Percentage of victory against expert_system:0.22 with nim size 12\n",
      "Percentage of victory against expert_system:0.13 with nim size 13\n",
      "Percentage of victory against expert_system:0.18 with nim size 14\n",
      "Percentage of victory against expert_system:0.22 with nim size 15\n",
      "Percentage of victory against expert_system:0.25 with nim size 16\n",
      "Percentage of victory against expert_system:0.18 with nim size 17\n",
      "Percentage of victory against expert_system:0.16 with nim size 18\n",
      "Percentage of victory against expert_system:0.31 with nim size 19\n",
      "Percentage of victory against expert_system:0.22 with nim size 20\n",
      "Percentage of victory against expert_system:0.26 with nim size 21\n",
      "Percentage of victory against expert_system:0.22 with nim size 22\n",
      "Percentage of victory against expert_system:0.17 with nim size 23\n",
      "Percentage of victory against expert_system:0.27 with nim size 24\n"
     ]
    },
    {
     "data": {
      "text/plain": [
       "0.22640000000000002"
      ]
     },
     "execution_count": 20,
     "metadata": {},
     "output_type": "execute_result"
    }
   ],
   "source": [
    "NUM_MATCHES = 100\n",
    "NIM_SIZE = 25\n",
    "\n",
    "evolution = []\n",
    "for i in range(NIM_SIZE):\n",
    "    winner = []\n",
    "    for m in range(NUM_MATCHES):\n",
    "        nim = Nim(i)\n",
    "        p2 = ExpertSystem(\"expert_system\")\n",
    "        p1 = RuleBased(\"classic_rules\")\n",
    "        game = Game(p1,p2, i)\n",
    "        winner.append(game.run())\n",
    "    evolution.append(op.countOf(winner,\"classic_rules\")/len(winner))\n",
    "    print(f'Percentage of victory against expert_system:{op.countOf(winner,\"classic_rules\")/len(winner)} with nim size {i}')\n",
    "np.mean(evolution)"
   ]
  },
  {
   "cell_type": "code",
   "execution_count": 21,
   "metadata": {},
   "outputs": [
    {
     "name": "stdout",
     "output_type": "stream",
     "text": [
      "Percentage of victory against expert_system:1.0 with nim size 0\n",
      "Percentage of victory against expert_system:0.0 with nim size 1\n",
      "Percentage of victory against expert_system:0.19 with nim size 2\n",
      "Percentage of victory against expert_system:0.12 with nim size 3\n",
      "Percentage of victory against expert_system:0.19 with nim size 4\n",
      "Percentage of victory against expert_system:0.16 with nim size 5\n",
      "Percentage of victory against expert_system:0.2 with nim size 6\n",
      "Percentage of victory against expert_system:0.1 with nim size 7\n",
      "Percentage of victory against expert_system:0.16 with nim size 8\n",
      "Percentage of victory against expert_system:0.17 with nim size 9\n",
      "Percentage of victory against expert_system:0.25 with nim size 10\n",
      "Percentage of victory against expert_system:0.19 with nim size 11\n",
      "Percentage of victory against expert_system:0.14 with nim size 12\n",
      "Percentage of victory against expert_system:0.28 with nim size 13\n",
      "Percentage of victory against expert_system:0.2 with nim size 14\n",
      "Percentage of victory against expert_system:0.28 with nim size 15\n",
      "Percentage of victory against expert_system:0.17 with nim size 16\n",
      "Percentage of victory against expert_system:0.29 with nim size 17\n",
      "Percentage of victory against expert_system:0.2 with nim size 18\n",
      "Percentage of victory against expert_system:0.21 with nim size 19\n",
      "Percentage of victory against expert_system:0.16 with nim size 20\n",
      "Percentage of victory against expert_system:0.23 with nim size 21\n",
      "Percentage of victory against expert_system:0.28 with nim size 22\n",
      "Percentage of victory against expert_system:0.19 with nim size 23\n",
      "Percentage of victory against expert_system:0.19 with nim size 24\n"
     ]
    },
    {
     "data": {
      "text/plain": [
       "0.22200000000000003"
      ]
     },
     "execution_count": 21,
     "metadata": {},
     "output_type": "execute_result"
    }
   ],
   "source": [
    "NUM_MATCHES = 100\n",
    "NIM_SIZE = 25\n",
    "\n",
    "evolution = []\n",
    "for i in range(NIM_SIZE):\n",
    "    winner = []\n",
    "    for m in range(NUM_MATCHES):\n",
    "        nim = Nim(i)\n",
    "        p1 = ExpertSystem(\"expert_system\")\n",
    "        p2 = RuleBased(\"classic_rules\")\n",
    "        game = Game(p1,p2, i)\n",
    "        winner.append(game.run())\n",
    "    evolution.append(op.countOf(winner,\"classic_rules\")/len(winner))\n",
    "    print(f'Percentage of victory against expert_system:{op.countOf(winner,\"classic_rules\")/len(winner)} with nim size {i}')\n",
    "np.mean(evolution)"
   ]
  },
  {
   "cell_type": "markdown",
   "metadata": {},
   "source": [
    "My strategy wins sometimes against expert_system"
   ]
  },
  {
   "cell_type": "markdown",
   "metadata": {},
   "source": [
    "## Task 3.2: Evolved Rules"
   ]
  },
  {
   "cell_type": "markdown",
   "metadata": {},
   "source": [
    "### Individuals"
   ]
  },
  {
   "cell_type": "markdown",
   "metadata": {},
   "source": [
    "The genome will be define by an array of params like [0.2,0.16,0.16,0.16,0.16,0.16] where the sum is equal to 1"
   ]
  },
  {
   "cell_type": "code",
   "execution_count": 22,
   "metadata": {},
   "outputs": [],
   "source": [
    "Individual = namedtuple(\"Individual\", [\"genome\", \"fitness\"])"
   ]
  },
  {
   "cell_type": "code",
   "execution_count": 23,
   "metadata": {},
   "outputs": [],
   "source": [
    "def generate_weights(weights: list):\n",
    "    \"\"\"Function that make the sum of weight == 1\"\"\"\n",
    "    p = weights\n",
    "    p   = np.array(p)\n",
    "    p = p/p.sum()  # normalize\n",
    "    return p"
   ]
  },
  {
   "cell_type": "markdown",
   "metadata": {},
   "source": [
    "### Fitness"
   ]
  },
  {
   "cell_type": "markdown",
   "metadata": {},
   "source": [
    "The fitness will be the average score during the evolution"
   ]
  },
  {
   "cell_type": "code",
   "execution_count": 24,
   "metadata": {},
   "outputs": [],
   "source": [
    "NUM_MATCHES = 50\n",
    "NIM_SIZE = 20\n",
    "def fitness(genome: list):\n",
    "    evolution = []\n",
    "    for i in range(NIM_SIZE):\n",
    "        winner = []\n",
    "        for m in range(NUM_MATCHES):\n",
    "            nim = Nim(i)\n",
    "            p1 = RuleBased(\"classic_rules\",genome)\n",
    "            p2 = RuleBased(\"pure_random\",[0,0,0,0,0,1])\n",
    "            game = Game(p1,p2, i)\n",
    "            winner.append(game.run())\n",
    "        evolution.append(op.countOf(winner,\"classic_rules\")/len(winner))\n",
    "        #print(f'Percentage of victory against pure random:{op.countOf(winner,\"classic_rules\")/len(winner)} with nim size {i}')\n",
    "    return np.mean(evolution)"
   ]
  },
  {
   "cell_type": "markdown",
   "metadata": {},
   "source": [
    "### Tournament"
   ]
  },
  {
   "cell_type": "code",
   "execution_count": 25,
   "metadata": {},
   "outputs": [],
   "source": [
    "def tournament(population: list, tournament_size=2):\n",
    "    \"\"\"Tournament function\"\"\"\n",
    "    return max(random.choices(population, k=tournament_size), key=lambda i: i.fitness)"
   ]
  },
  {
   "cell_type": "markdown",
   "metadata": {},
   "source": [
    "### Cross-Over"
   ]
  },
  {
   "cell_type": "code",
   "execution_count": 26,
   "metadata": {},
   "outputs": [],
   "source": [
    "def cross_over(g1, g2, g3):\n",
    "    cut = random.randint(0, 3)\n",
    "    cut2 = random.randint(cut,5)\n",
    "    return generate_weights(g1.tolist()[:cut] + g2.tolist()[cut:cut2] + g3.tolist()[cut2:])"
   ]
  },
  {
   "cell_type": "code",
   "execution_count": 27,
   "metadata": {},
   "outputs": [
    {
     "data": {
      "text/plain": [
       "[1, 3, 3, 3, 4, 8]"
      ]
     },
     "execution_count": 27,
     "metadata": {},
     "output_type": "execute_result"
    }
   ],
   "source": [
    "a = [1,3,3,5,0,1]\n",
    "b = [2,5,9,3,4,8]\n",
    "a[:3]+b[3:]"
   ]
  },
  {
   "cell_type": "markdown",
   "metadata": {},
   "source": [
    "### Mutation"
   ]
  },
  {
   "cell_type": "markdown",
   "metadata": {},
   "source": [
    "For mutation, we will permutate two parameters"
   ]
  },
  {
   "cell_type": "code",
   "execution_count": 28,
   "metadata": {},
   "outputs": [],
   "source": [
    "def mutation(g:list):\n",
    "    point1 = random.randint(0, len(g) - 1)\n",
    "    point2 = None\n",
    "    while not point2:\n",
    "        test = random.randint(0, len(g) - 1)\n",
    "        if test != point1:\n",
    "            point2 = test\n",
    "    tmp = g[point1]\n",
    "    g[point1] = g[point2]\n",
    "    g[point2] = tmp\n",
    "    return g"
   ]
  },
  {
   "cell_type": "markdown",
   "metadata": {},
   "source": [
    "### Evolution"
   ]
  },
  {
   "cell_type": "markdown",
   "metadata": {},
   "source": [
    "#### Initial Population"
   ]
  },
  {
   "cell_type": "code",
   "execution_count": 29,
   "metadata": {},
   "outputs": [],
   "source": [
    "def create_rand_pop(count):\n",
    "    pop = []\n",
    "    for i in range(count):\n",
    "        logging.log\n",
    "        genome = generate_weights([random.randint(1,100) for i in range(6)])\n",
    "        logging.debug(f\"status: Created {i} genome\")\n",
    "        fitness_value = fitness(genome)\n",
    "        pop.append(Individual(genome,fitness_value))\n",
    "    return pop"
   ]
  },
  {
   "cell_type": "code",
   "execution_count": 30,
   "metadata": {},
   "outputs": [],
   "source": [
    "def evolution(population: list,POPULATION_SIZE: int, NUM_GENERATIONS:int, OFFSPRING_SIZE:int):\n",
    "    for g in range(NUM_GENERATIONS):\n",
    "        logging.debug(f\"generation_number {g}\")\n",
    "        offspring = list()\n",
    "        for i in range(OFFSPRING_SIZE):\n",
    "            if random.random() < 0.3:\n",
    "                p = tournament(population)\n",
    "                o = mutation(p.genome.copy())\n",
    "            else:\n",
    "                p1 = tournament(population)\n",
    "                p2 = tournament(population)\n",
    "                p3 = tournament(population)\n",
    "                o = cross_over(p1.genome.copy(), p2.genome.copy(),p3.genome.copy())\n",
    "            f = fitness(o)\n",
    "            offspring.append(Individual(o, f))\n",
    "        population+=offspring\n",
    "        population = sorted(population, key=lambda indi: indi.fitness,reverse=True)[:POPULATION_SIZE]\n",
    "        logging.debug(f\"top fitness {population[0].fitness}\")\n",
    "    #plot_result(fitness_log,10*N)\n",
    "    return population[0]"
   ]
  },
  {
   "cell_type": "code",
   "execution_count": 33,
   "metadata": {},
   "outputs": [
    {
     "name": "stderr",
     "output_type": "stream",
     "text": [
      "DEBUG:root:status: Created 0 genome\n",
      "DEBUG:root:status: Created 1 genome\n",
      "DEBUG:root:status: Created 2 genome\n",
      "DEBUG:root:status: Created 3 genome\n",
      "DEBUG:root:status: Created 4 genome\n",
      "DEBUG:root:status: Created 5 genome\n",
      "DEBUG:root:status: Created 6 genome\n",
      "DEBUG:root:status: Created 7 genome\n",
      "DEBUG:root:status: Created 8 genome\n",
      "DEBUG:root:status: Created 9 genome\n",
      "DEBUG:root:status: Created 10 genome\n",
      "DEBUG:root:status: Created 11 genome\n",
      "DEBUG:root:status: Created 12 genome\n",
      "DEBUG:root:status: Created 13 genome\n",
      "DEBUG:root:status: Created 14 genome\n",
      "DEBUG:root:status: Created 15 genome\n",
      "DEBUG:root:status: Created 16 genome\n",
      "DEBUG:root:status: Created 17 genome\n",
      "DEBUG:root:status: Created 18 genome\n",
      "DEBUG:root:status: Created 19 genome\n",
      "DEBUG:root:status: Created 20 genome\n",
      "DEBUG:root:status: Created 21 genome\n",
      "DEBUG:root:status: Created 22 genome\n",
      "DEBUG:root:status: Created 23 genome\n",
      "DEBUG:root:status: Created 24 genome\n",
      "DEBUG:root:status: Created 25 genome\n",
      "DEBUG:root:status: Created 26 genome\n",
      "DEBUG:root:status: Created 27 genome\n",
      "DEBUG:root:status: Created 28 genome\n",
      "DEBUG:root:status: Created 29 genome\n",
      "DEBUG:root:status: Created 30 genome\n",
      "DEBUG:root:status: Created 31 genome\n",
      "DEBUG:root:status: Created 32 genome\n",
      "DEBUG:root:status: Created 33 genome\n",
      "DEBUG:root:status: Created 34 genome\n",
      "DEBUG:root:status: Created 35 genome\n",
      "DEBUG:root:status: Created 36 genome\n",
      "DEBUG:root:status: Created 37 genome\n",
      "DEBUG:root:status: Created 38 genome\n",
      "DEBUG:root:status: Created 39 genome\n",
      "DEBUG:root:status: Created 40 genome\n",
      "DEBUG:root:status: Created 41 genome\n",
      "DEBUG:root:status: Created 42 genome\n",
      "DEBUG:root:status: Created 43 genome\n",
      "DEBUG:root:status: Created 44 genome\n",
      "DEBUG:root:status: Created 45 genome\n",
      "DEBUG:root:status: Created 46 genome\n",
      "DEBUG:root:status: Created 47 genome\n",
      "DEBUG:root:status: Created 48 genome\n",
      "DEBUG:root:status: Created 49 genome\n"
     ]
    }
   ],
   "source": [
    "POPULATION_SIZE = 50\n",
    "OFFSPRING_SIZE = 10\n",
    "NUM_GENERATIONS = 50\n",
    "### Initialisation of the problem\n",
    "population = create_rand_pop(POPULATION_SIZE)"
   ]
  },
  {
   "cell_type": "code",
   "execution_count": 34,
   "metadata": {},
   "outputs": [
    {
     "name": "stderr",
     "output_type": "stream",
     "text": [
      "DEBUG:root:generation_number 0\n",
      "DEBUG:root:top fitness 0.7270000000000001\n",
      "DEBUG:root:generation_number 1\n",
      "DEBUG:root:top fitness 0.7309999999999999\n",
      "DEBUG:root:generation_number 2\n",
      "DEBUG:root:top fitness 0.769\n",
      "DEBUG:root:generation_number 3\n",
      "DEBUG:root:top fitness 0.769\n",
      "DEBUG:root:generation_number 4\n",
      "DEBUG:root:top fitness 0.769\n",
      "DEBUG:root:generation_number 5\n",
      "DEBUG:root:top fitness 0.769\n",
      "DEBUG:root:generation_number 6\n",
      "DEBUG:root:top fitness 0.769\n",
      "DEBUG:root:generation_number 7\n",
      "DEBUG:root:top fitness 0.769\n",
      "DEBUG:root:generation_number 8\n",
      "DEBUG:root:top fitness 0.769\n",
      "DEBUG:root:generation_number 9\n",
      "DEBUG:root:top fitness 0.769\n",
      "DEBUG:root:generation_number 10\n",
      "DEBUG:root:top fitness 0.769\n",
      "DEBUG:root:generation_number 11\n",
      "DEBUG:root:top fitness 0.769\n",
      "DEBUG:root:generation_number 12\n",
      "DEBUG:root:top fitness 0.769\n",
      "DEBUG:root:generation_number 13\n",
      "DEBUG:root:top fitness 0.769\n",
      "DEBUG:root:generation_number 14\n",
      "DEBUG:root:top fitness 0.769\n",
      "DEBUG:root:generation_number 15\n",
      "DEBUG:root:top fitness 0.769\n",
      "DEBUG:root:generation_number 16\n",
      "DEBUG:root:top fitness 0.7859999999999999\n",
      "DEBUG:root:generation_number 17\n",
      "DEBUG:root:top fitness 0.7859999999999999\n",
      "DEBUG:root:generation_number 18\n",
      "DEBUG:root:top fitness 0.804\n",
      "DEBUG:root:generation_number 19\n",
      "DEBUG:root:top fitness 0.804\n",
      "DEBUG:root:generation_number 20\n",
      "DEBUG:root:top fitness 0.804\n",
      "DEBUG:root:generation_number 21\n",
      "DEBUG:root:top fitness 0.807\n",
      "DEBUG:root:generation_number 22\n",
      "DEBUG:root:top fitness 0.807\n",
      "DEBUG:root:generation_number 23\n",
      "DEBUG:root:top fitness 0.807\n",
      "DEBUG:root:generation_number 24\n",
      "DEBUG:root:top fitness 0.807\n",
      "DEBUG:root:generation_number 25\n",
      "DEBUG:root:top fitness 0.807\n",
      "DEBUG:root:generation_number 26\n",
      "DEBUG:root:top fitness 0.8080000000000002\n",
      "DEBUG:root:generation_number 27\n",
      "DEBUG:root:top fitness 0.8080000000000002\n",
      "DEBUG:root:generation_number 28\n",
      "DEBUG:root:top fitness 0.8080000000000002\n",
      "DEBUG:root:generation_number 29\n",
      "DEBUG:root:top fitness 0.821\n",
      "DEBUG:root:generation_number 30\n",
      "DEBUG:root:top fitness 0.8230000000000001\n",
      "DEBUG:root:generation_number 31\n",
      "DEBUG:root:top fitness 0.8230000000000001\n",
      "DEBUG:root:generation_number 32\n",
      "DEBUG:root:top fitness 0.8230000000000001\n",
      "DEBUG:root:generation_number 33\n",
      "DEBUG:root:top fitness 0.837\n",
      "DEBUG:root:generation_number 34\n",
      "DEBUG:root:top fitness 0.837\n",
      "DEBUG:root:generation_number 35\n",
      "DEBUG:root:top fitness 0.837\n",
      "DEBUG:root:generation_number 36\n",
      "DEBUG:root:top fitness 0.837\n",
      "DEBUG:root:generation_number 37\n",
      "DEBUG:root:top fitness 0.837\n",
      "DEBUG:root:generation_number 38\n",
      "DEBUG:root:top fitness 0.837\n",
      "DEBUG:root:generation_number 39\n",
      "DEBUG:root:top fitness 0.837\n",
      "DEBUG:root:generation_number 40\n",
      "DEBUG:root:top fitness 0.837\n",
      "DEBUG:root:generation_number 41\n",
      "DEBUG:root:top fitness 0.837\n",
      "DEBUG:root:generation_number 42\n",
      "DEBUG:root:top fitness 0.837\n",
      "DEBUG:root:generation_number 43\n",
      "DEBUG:root:top fitness 0.837\n",
      "DEBUG:root:generation_number 44\n",
      "DEBUG:root:top fitness 0.837\n",
      "DEBUG:root:generation_number 45\n",
      "DEBUG:root:top fitness 0.837\n",
      "DEBUG:root:generation_number 46\n",
      "DEBUG:root:top fitness 0.837\n",
      "DEBUG:root:generation_number 47\n",
      "DEBUG:root:top fitness 0.837\n",
      "DEBUG:root:generation_number 48\n",
      "DEBUG:root:top fitness 0.837\n",
      "DEBUG:root:generation_number 49\n",
      "DEBUG:root:top fitness 0.837\n"
     ]
    },
    {
     "data": {
      "text/plain": [
       "Individual(genome=array([0.04220121, 0.42820883, 0.40232793, 0.02478737, 0.04050624,\n",
       "       0.06196842]), fitness=0.837)"
      ]
     },
     "execution_count": 34,
     "metadata": {},
     "output_type": "execute_result"
    }
   ],
   "source": [
    "evolution(population,POPULATION_SIZE,NUM_GENERATIONS,OFFSPRING_SIZE)"
   ]
  },
  {
   "cell_type": "markdown",
   "metadata": {},
   "source": [
    "### Best Result\n",
    "Individual(genome=array([0.04220121, 0.42820883, 0.40232793, 0.02478737, 0.04050624,\n",
    "       0.06196842]), fitness=0.837)"
   ]
  }
 ],
 "metadata": {
  "kernelspec": {
   "display_name": "Python 3.9.7 ('base')",
   "language": "python",
   "name": "python3"
  },
  "language_info": {
   "codemirror_mode": {
    "name": "ipython",
    "version": 3
   },
   "file_extension": ".py",
   "mimetype": "text/x-python",
   "name": "python",
   "nbconvert_exporter": "python",
   "pygments_lexer": "ipython3",
   "version": "3.9.7"
  },
  "orig_nbformat": 4,
  "vscode": {
   "interpreter": {
    "hash": "ca9c90c9b299e3c35d28bc96236d8f2c0bd3d51256cb5ad616950692d4a1a879"
   }
  }
 },
 "nbformat": 4,
 "nbformat_minor": 2
}
